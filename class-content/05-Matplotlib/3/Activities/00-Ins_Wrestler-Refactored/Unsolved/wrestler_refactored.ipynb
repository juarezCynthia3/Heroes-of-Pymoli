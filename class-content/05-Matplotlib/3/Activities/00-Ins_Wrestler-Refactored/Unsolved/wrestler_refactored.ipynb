{
 "cells": [
  {
   "cell_type": "markdown",
   "metadata": {},
   "source": [
    "# Part 1 - Macho merging\n",
    "* Merge the 4 csv files into one dataframe\n",
    "* rename Wins, Losses, and Draws columns with `years` in columns name\n",
    "\n",
    "# Part 2\n",
    "* Fill missing values with 0\n",
    "\n",
    "* Add Total Wins, Total Losses, Total Draws, and Total Matches columns\n",
    "\n",
    "* Find wrestlers that have wrestled > 100 matches and won a match in both 2013 and 2016\n",
    "\n",
    "# Part 3 - Charting\n",
    "* Create a variable and an input that asks the user what wrestler they would like to look for.\n",
    "\n",
    "* Store an individual wrestler's wins over time in a variable\n",
    "\n",
    "* Store that same wrestler's losses over time in a variable as well\n",
    "\n",
    "* Create a line chart that will plot this wrestler's wins and losses from 2013 to 2016\n"
   ]
  },
  {
   "cell_type": "code",
   "execution_count": null,
   "metadata": {},
   "outputs": [],
   "source": []
  }
 ],
 "metadata": {
  "kernelspec": {
   "display_name": "Python [conda env:PythonData]",
   "language": "python",
   "name": "conda-env-PythonData-py"
  },
  "language_info": {
   "codemirror_mode": {
    "name": "ipython",
    "version": 3
   },
   "file_extension": ".py",
   "mimetype": "text/x-python",
   "name": "python",
   "nbconvert_exporter": "python",
   "pygments_lexer": "ipython3",
   "version": "3.6.7"
  }
 },
 "nbformat": 4,
 "nbformat_minor": 2
}
